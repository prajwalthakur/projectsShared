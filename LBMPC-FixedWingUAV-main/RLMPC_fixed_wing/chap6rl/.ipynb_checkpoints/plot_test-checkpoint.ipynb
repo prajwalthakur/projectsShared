{
 "cells": [
  {
   "cell_type": "code",
   "execution_count": 48,
   "metadata": {
    "ExecuteTime": {
     "end_time": "2021-01-23T17:03:53.797783Z",
     "start_time": "2021-01-23T17:03:53.770280Z"
    }
   },
   "outputs": [
    {
     "data": {
      "text/html": [
       "<div>\n",
       "<style scoped>\n",
       "    .dataframe tbody tr th:only-of-type {\n",
       "        vertical-align: middle;\n",
       "    }\n",
       "\n",
       "    .dataframe tbody tr th {\n",
       "        vertical-align: top;\n",
       "    }\n",
       "\n",
       "    .dataframe thead th {\n",
       "        text-align: right;\n",
       "    }\n",
       "</style>\n",
       "<table border=\"1\" class=\"dataframe\">\n",
       "  <thead>\n",
       "    <tr style=\"text-align: right;\">\n",
       "      <th></th>\n",
       "      <th>elevator(radian)</th>\n",
       "      <th>thrustf1</th>\n",
       "      <th>thrustf2</th>\n",
       "      <th>u</th>\n",
       "      <th>w</th>\n",
       "      <th>q(rad/sec)</th>\n",
       "      <th>theta(radian)</th>\n",
       "      <th>height</th>\n",
       "    </tr>\n",
       "  </thead>\n",
       "  <tbody>\n",
       "    <tr>\n",
       "      <th>0</th>\n",
       "      <td>0.000000</td>\n",
       "      <td>6.000000</td>\n",
       "      <td>6.000000</td>\n",
       "      <td>24.844698</td>\n",
       "      <td>1.530195</td>\n",
       "      <td>0.003236</td>\n",
       "      <td>0.063913</td>\n",
       "      <td>99.999790</td>\n",
       "    </tr>\n",
       "    <tr>\n",
       "      <th>1</th>\n",
       "      <td>-1.047198</td>\n",
       "      <td>0.010004</td>\n",
       "      <td>0.010004</td>\n",
       "      <td>24.832810</td>\n",
       "      <td>1.615199</td>\n",
       "      <td>0.764588</td>\n",
       "      <td>0.066984</td>\n",
       "      <td>99.999366</td>\n",
       "    </tr>\n",
       "    <tr>\n",
       "      <th>2</th>\n",
       "      <td>-1.047198</td>\n",
       "      <td>0.010004</td>\n",
       "      <td>0.010004</td>\n",
       "      <td>24.809870</td>\n",
       "      <td>1.840672</td>\n",
       "      <td>1.467025</td>\n",
       "      <td>0.075911</td>\n",
       "      <td>99.998890</td>\n",
       "    </tr>\n",
       "    <tr>\n",
       "      <th>3</th>\n",
       "      <td>-1.047198</td>\n",
       "      <td>0.010005</td>\n",
       "      <td>0.010005</td>\n",
       "      <td>24.773205</td>\n",
       "      <td>2.190132</td>\n",
       "      <td>2.110804</td>\n",
       "      <td>0.090222</td>\n",
       "      <td>99.998421</td>\n",
       "    </tr>\n",
       "    <tr>\n",
       "      <th>4</th>\n",
       "      <td>-1.047198</td>\n",
       "      <td>0.010007</td>\n",
       "      <td>0.010007</td>\n",
       "      <td>24.718887</td>\n",
       "      <td>2.647522</td>\n",
       "      <td>2.696535</td>\n",
       "      <td>0.109451</td>\n",
       "      <td>99.998049</td>\n",
       "    </tr>\n",
       "    <tr>\n",
       "      <th>5</th>\n",
       "      <td>-1.047198</td>\n",
       "      <td>0.010009</td>\n",
       "      <td>0.010009</td>\n",
       "      <td>24.642406</td>\n",
       "      <td>3.197227</td>\n",
       "      <td>3.225105</td>\n",
       "      <td>0.133138</td>\n",
       "      <td>99.997894</td>\n",
       "    </tr>\n",
       "    <tr>\n",
       "      <th>6</th>\n",
       "      <td>-1.047197</td>\n",
       "      <td>0.010011</td>\n",
       "      <td>0.010011</td>\n",
       "      <td>24.539237</td>\n",
       "      <td>3.824094</td>\n",
       "      <td>3.697632</td>\n",
       "      <td>0.160829</td>\n",
       "      <td>99.998098</td>\n",
       "    </tr>\n",
       "    <tr>\n",
       "      <th>7</th>\n",
       "      <td>-1.047197</td>\n",
       "      <td>0.010016</td>\n",
       "      <td>0.010016</td>\n",
       "      <td>24.405271</td>\n",
       "      <td>4.513465</td>\n",
       "      <td>4.115432</td>\n",
       "      <td>0.192081</td>\n",
       "      <td>99.998824</td>\n",
       "    </tr>\n",
       "    <tr>\n",
       "      <th>8</th>\n",
       "      <td>-1.047197</td>\n",
       "      <td>0.010022</td>\n",
       "      <td>0.010022</td>\n",
       "      <td>24.237150</td>\n",
       "      <td>5.251249</td>\n",
       "      <td>4.480008</td>\n",
       "      <td>0.226463</td>\n",
       "      <td>100.000249</td>\n",
       "    </tr>\n",
       "    <tr>\n",
       "      <th>9</th>\n",
       "      <td>-1.047197</td>\n",
       "      <td>0.010035</td>\n",
       "      <td>0.010035</td>\n",
       "      <td>24.032499</td>\n",
       "      <td>6.024008</td>\n",
       "      <td>4.793043</td>\n",
       "      <td>0.263555</td>\n",
       "      <td>100.002560</td>\n",
       "    </tr>\n",
       "    <tr>\n",
       "      <th>10</th>\n",
       "      <td>-1.047193</td>\n",
       "      <td>0.010061</td>\n",
       "      <td>0.010061</td>\n",
       "      <td>23.790060</td>\n",
       "      <td>6.819067</td>\n",
       "      <td>5.056393</td>\n",
       "      <td>0.302953</td>\n",
       "      <td>100.005952</td>\n",
       "    </tr>\n",
       "    <tr>\n",
       "      <th>11</th>\n",
       "      <td>-0.004488</td>\n",
       "      <td>0.010135</td>\n",
       "      <td>0.010136</td>\n",
       "      <td>23.535900</td>\n",
       "      <td>7.539802</td>\n",
       "      <td>4.514958</td>\n",
       "      <td>0.341238</td>\n",
       "      <td>100.010676</td>\n",
       "    </tr>\n",
       "    <tr>\n",
       "      <th>12</th>\n",
       "      <td>0.000000</td>\n",
       "      <td>0.315934</td>\n",
       "      <td>0.315934</td>\n",
       "      <td>23.298511</td>\n",
       "      <td>8.131548</td>\n",
       "      <td>3.991106</td>\n",
       "      <td>0.375263</td>\n",
       "      <td>100.016962</td>\n",
       "    </tr>\n",
       "  </tbody>\n",
       "</table>\n",
       "</div>"
      ],
      "text/plain": [
       "    elevator(radian)  thrustf1  thrustf2          u         w  q(rad/sec)  \\\n",
       "0           0.000000  6.000000  6.000000  24.844698  1.530195    0.003236   \n",
       "1          -1.047198  0.010004  0.010004  24.832810  1.615199    0.764588   \n",
       "2          -1.047198  0.010004  0.010004  24.809870  1.840672    1.467025   \n",
       "3          -1.047198  0.010005  0.010005  24.773205  2.190132    2.110804   \n",
       "4          -1.047198  0.010007  0.010007  24.718887  2.647522    2.696535   \n",
       "5          -1.047198  0.010009  0.010009  24.642406  3.197227    3.225105   \n",
       "6          -1.047197  0.010011  0.010011  24.539237  3.824094    3.697632   \n",
       "7          -1.047197  0.010016  0.010016  24.405271  4.513465    4.115432   \n",
       "8          -1.047197  0.010022  0.010022  24.237150  5.251249    4.480008   \n",
       "9          -1.047197  0.010035  0.010035  24.032499  6.024008    4.793043   \n",
       "10         -1.047193  0.010061  0.010061  23.790060  6.819067    5.056393   \n",
       "11         -0.004488  0.010135  0.010136  23.535900  7.539802    4.514958   \n",
       "12          0.000000  0.315934  0.315934  23.298511  8.131548    3.991106   \n",
       "\n",
       "    theta(radian)      height  \n",
       "0        0.063913   99.999790  \n",
       "1        0.066984   99.999366  \n",
       "2        0.075911   99.998890  \n",
       "3        0.090222   99.998421  \n",
       "4        0.109451   99.998049  \n",
       "5        0.133138   99.997894  \n",
       "6        0.160829   99.998098  \n",
       "7        0.192081   99.998824  \n",
       "8        0.226463  100.000249  \n",
       "9        0.263555  100.002560  \n",
       "10       0.302953  100.005952  \n",
       "11       0.341238  100.010676  \n",
       "12       0.375263  100.016962  "
      ]
     },
     "execution_count": 48,
     "metadata": {},
     "output_type": "execute_result"
    }
   ],
   "source": [
    "import pandas as pd\n",
    "from sklearn import preprocessing\n",
    "import numpy as np\n",
    "system_data = pd.read_csv('system_data.csv') \n",
    "#data.to_csv(\"vtol_data.csv\", header=[\"delta_e\", \"delta_tf1\", \"delta_tf2\",\"u\", \"w\", \"q\",\"theta\", \"height\"], index=False)\n",
    "#data.to_csv(\"system_data.csv\", header=[\"elevator\",\"tf1\",\"tf2\",\"u\",\"w\",  \"q\",\"theta\", \"height\" ], index=False)\n",
    "system_data"
   ]
  },
  {
   "cell_type": "code",
   "execution_count": 49,
   "metadata": {
    "ExecuteTime": {
     "end_time": "2021-01-23T17:03:57.231435Z",
     "start_time": "2021-01-23T17:03:57.201915Z"
    }
   },
   "outputs": [
    {
     "data": {
      "text/html": [
       "<div>\n",
       "<style scoped>\n",
       "    .dataframe tbody tr th:only-of-type {\n",
       "        vertical-align: middle;\n",
       "    }\n",
       "\n",
       "    .dataframe tbody tr th {\n",
       "        vertical-align: top;\n",
       "    }\n",
       "\n",
       "    .dataframe thead th {\n",
       "        text-align: right;\n",
       "    }\n",
       "</style>\n",
       "<table border=\"1\" class=\"dataframe\">\n",
       "  <thead>\n",
       "    <tr style=\"text-align: right;\">\n",
       "      <th></th>\n",
       "      <th>elevator(radian)</th>\n",
       "      <th>thrustf1</th>\n",
       "      <th>thrustf2</th>\n",
       "      <th>u</th>\n",
       "      <th>w</th>\n",
       "      <th>q(rad/sec)</th>\n",
       "      <th>theta(radian)</th>\n",
       "      <th>height</th>\n",
       "    </tr>\n",
       "  </thead>\n",
       "  <tbody>\n",
       "    <tr>\n",
       "      <th>0</th>\n",
       "      <td>0.000000</td>\n",
       "      <td>6.000000</td>\n",
       "      <td>6.000000</td>\n",
       "      <td>24.900000</td>\n",
       "      <td>1.597300</td>\n",
       "      <td>0.000000</td>\n",
       "      <td>0.063900</td>\n",
       "      <td>100.000000</td>\n",
       "    </tr>\n",
       "    <tr>\n",
       "      <th>1</th>\n",
       "      <td>-1.047198</td>\n",
       "      <td>0.010004</td>\n",
       "      <td>0.010004</td>\n",
       "      <td>24.895415</td>\n",
       "      <td>1.545560</td>\n",
       "      <td>-0.035112</td>\n",
       "      <td>0.063931</td>\n",
       "      <td>100.158393</td>\n",
       "    </tr>\n",
       "    <tr>\n",
       "      <th>2</th>\n",
       "      <td>-1.047198</td>\n",
       "      <td>0.010004</td>\n",
       "      <td>0.010004</td>\n",
       "      <td>24.697848</td>\n",
       "      <td>1.938960</td>\n",
       "      <td>0.790091</td>\n",
       "      <td>0.063238</td>\n",
       "      <td>100.448468</td>\n",
       "    </tr>\n",
       "    <tr>\n",
       "      <th>3</th>\n",
       "      <td>-1.047198</td>\n",
       "      <td>0.010005</td>\n",
       "      <td>0.010005</td>\n",
       "      <td>24.520159</td>\n",
       "      <td>2.545468</td>\n",
       "      <td>1.490618</td>\n",
       "      <td>0.071211</td>\n",
       "      <td>100.819184</td>\n",
       "    </tr>\n",
       "    <tr>\n",
       "      <th>4</th>\n",
       "      <td>-1.047198</td>\n",
       "      <td>0.010007</td>\n",
       "      <td>0.010007</td>\n",
       "      <td>24.349746</td>\n",
       "      <td>3.279787</td>\n",
       "      <td>2.063239</td>\n",
       "      <td>0.086862</td>\n",
       "      <td>101.304950</td>\n",
       "    </tr>\n",
       "    <tr>\n",
       "      <th>5</th>\n",
       "      <td>-1.047198</td>\n",
       "      <td>0.010009</td>\n",
       "      <td>0.010009</td>\n",
       "      <td>24.174038</td>\n",
       "      <td>4.062763</td>\n",
       "      <td>2.510573</td>\n",
       "      <td>0.108878</td>\n",
       "      <td>101.928537</td>\n",
       "    </tr>\n",
       "    <tr>\n",
       "      <th>6</th>\n",
       "      <td>-1.047197</td>\n",
       "      <td>0.010011</td>\n",
       "      <td>0.010011</td>\n",
       "      <td>23.986275</td>\n",
       "      <td>4.833126</td>\n",
       "      <td>2.843704</td>\n",
       "      <td>0.135788</td>\n",
       "      <td>102.687490</td>\n",
       "    </tr>\n",
       "    <tr>\n",
       "      <th>7</th>\n",
       "      <td>-1.047197</td>\n",
       "      <td>0.010016</td>\n",
       "      <td>0.010016</td>\n",
       "      <td>23.786742</td>\n",
       "      <td>5.552018</td>\n",
       "      <td>3.080055</td>\n",
       "      <td>0.166176</td>\n",
       "      <td>103.556262</td>\n",
       "    </tr>\n",
       "    <tr>\n",
       "      <th>8</th>\n",
       "      <td>-1.047197</td>\n",
       "      <td>0.010022</td>\n",
       "      <td>0.010022</td>\n",
       "      <td>23.580601</td>\n",
       "      <td>6.200388</td>\n",
       "      <td>3.239461</td>\n",
       "      <td>0.198828</td>\n",
       "      <td>104.497138</td>\n",
       "    </tr>\n",
       "    <tr>\n",
       "      <th>9</th>\n",
       "      <td>-1.047197</td>\n",
       "      <td>0.010035</td>\n",
       "      <td>0.010035</td>\n",
       "      <td>23.374862</td>\n",
       "      <td>6.773043</td>\n",
       "      <td>3.340809</td>\n",
       "      <td>0.232786</td>\n",
       "      <td>105.471327</td>\n",
       "    </tr>\n",
       "    <tr>\n",
       "      <th>10</th>\n",
       "      <td>-1.047193</td>\n",
       "      <td>0.010061</td>\n",
       "      <td>0.010061</td>\n",
       "      <td>23.176128</td>\n",
       "      <td>7.272789</td>\n",
       "      <td>3.400156</td>\n",
       "      <td>0.267333</td>\n",
       "      <td>106.445848</td>\n",
       "    </tr>\n",
       "    <tr>\n",
       "      <th>11</th>\n",
       "      <td>-0.004488</td>\n",
       "      <td>0.010135</td>\n",
       "      <td>0.010136</td>\n",
       "      <td>22.989512</td>\n",
       "      <td>7.706185</td>\n",
       "      <td>3.430163</td>\n",
       "      <td>0.301953</td>\n",
       "      <td>107.396039</td>\n",
       "    </tr>\n",
       "    <tr>\n",
       "      <th>12</th>\n",
       "      <td>0.000000</td>\n",
       "      <td>0.315934</td>\n",
       "      <td>0.315934</td>\n",
       "      <td>23.028080</td>\n",
       "      <td>7.891821</td>\n",
       "      <td>2.715552</td>\n",
       "      <td>0.345145</td>\n",
       "      <td>107.993026</td>\n",
       "    </tr>\n",
       "  </tbody>\n",
       "</table>\n",
       "</div>"
      ],
      "text/plain": [
       "    elevator(radian)  thrustf1  thrustf2          u         w  q(rad/sec)  \\\n",
       "0           0.000000  6.000000  6.000000  24.900000  1.597300    0.000000   \n",
       "1          -1.047198  0.010004  0.010004  24.895415  1.545560   -0.035112   \n",
       "2          -1.047198  0.010004  0.010004  24.697848  1.938960    0.790091   \n",
       "3          -1.047198  0.010005  0.010005  24.520159  2.545468    1.490618   \n",
       "4          -1.047198  0.010007  0.010007  24.349746  3.279787    2.063239   \n",
       "5          -1.047198  0.010009  0.010009  24.174038  4.062763    2.510573   \n",
       "6          -1.047197  0.010011  0.010011  23.986275  4.833126    2.843704   \n",
       "7          -1.047197  0.010016  0.010016  23.786742  5.552018    3.080055   \n",
       "8          -1.047197  0.010022  0.010022  23.580601  6.200388    3.239461   \n",
       "9          -1.047197  0.010035  0.010035  23.374862  6.773043    3.340809   \n",
       "10         -1.047193  0.010061  0.010061  23.176128  7.272789    3.400156   \n",
       "11         -0.004488  0.010135  0.010136  22.989512  7.706185    3.430163   \n",
       "12          0.000000  0.315934  0.315934  23.028080  7.891821    2.715552   \n",
       "\n",
       "    theta(radian)      height  \n",
       "0        0.063900  100.000000  \n",
       "1        0.063931  100.158393  \n",
       "2        0.063238  100.448468  \n",
       "3        0.071211  100.819184  \n",
       "4        0.086862  101.304950  \n",
       "5        0.108878  101.928537  \n",
       "6        0.135788  102.687490  \n",
       "7        0.166176  103.556262  \n",
       "8        0.198828  104.497138  \n",
       "9        0.232786  105.471327  \n",
       "10       0.267333  106.445848  \n",
       "11       0.301953  107.396039  \n",
       "12       0.345145  107.993026  "
      ]
     },
     "execution_count": 49,
     "metadata": {},
     "output_type": "execute_result"
    }
   ],
   "source": [
    "mpc_data = pd.read_csv('mpc_data.csv') \n",
    "\n",
    "mpc_data"
   ]
  },
  {
   "cell_type": "code",
   "execution_count": 9,
   "metadata": {
    "ExecuteTime": {
     "end_time": "2021-01-23T16:40:44.918929Z",
     "start_time": "2021-01-23T16:40:44.900205Z"
    }
   },
   "outputs": [],
   "source": [
    "sys=system_data.to_numpy();\n",
    "sysplt = sys[0:,7]\n"
   ]
  },
  {
   "cell_type": "code",
   "execution_count": 11,
   "metadata": {
    "ExecuteTime": {
     "end_time": "2021-01-23T16:41:17.972127Z",
     "start_time": "2021-01-23T16:41:17.948613Z"
    }
   },
   "outputs": [],
   "source": [
    "mpc=mpc_data.to_numpy();\n",
    "mpcplt = mpc[0: ,7 ]\n"
   ]
  },
  {
   "cell_type": "code",
   "execution_count": 34,
   "metadata": {
    "ExecuteTime": {
     "end_time": "2021-01-23T16:56:13.326866Z",
     "start_time": "2021-01-23T16:56:13.310334Z"
    }
   },
   "outputs": [
    {
     "data": {
      "text/plain": [
       "array([[18.],\n",
       "       [18.],\n",
       "       [18.],\n",
       "       [18.],\n",
       "       [18.],\n",
       "       [18.],\n",
       "       [18.],\n",
       "       [18.],\n",
       "       [18.],\n",
       "       [18.],\n",
       "       [18.],\n",
       "       [18.],\n",
       "       [18.]])"
      ]
     },
     "execution_count": 34,
     "metadata": {},
     "output_type": "execute_result"
    }
   ],
   "source": [
    "true = 18*np.ones((13,1))\n",
    "true"
   ]
  },
  {
   "cell_type": "code",
   "execution_count": 50,
   "metadata": {
    "ExecuteTime": {
     "end_time": "2021-01-23T17:04:03.607214Z",
     "start_time": "2021-01-23T17:04:03.416690Z"
    }
   },
   "outputs": [
    {
     "data": {
      "image/png": "[encoded data removed]",
      "text/plain": [
       "<Figure size 432x288 with 1 Axes>"
      ]
     },
     "metadata": {
      "needs_background": "light"
     },
     "output_type": "display_data"
    }
   ],
   "source": [
    "import matplotlib.pyplot as plt\n",
    "import numpy as np\n",
    "\n",
    "# evenly sampled time at 200ms intervals\n",
    "t = np.arange(0., 13, 1)\n",
    "true = 108*np.ones((13,1))\n",
    "mpcplt = mpc[0: ,7 ]\n",
    "sysplt = sys[0:,7]\n",
    "plt.plot(t, sysplt, 'bs',label ='system  output')\n",
    "plt.plot(t, mpcplt, 'g^',label = 'mpc prediction')\n",
    "plt.plot(t, true,'r--',label = 'desired')\n",
    "plt.legend(loc=\"upper left\")\n",
    "plt.ylabel('height /output[4]')\n",
    "plt.xlabel('steps ')\n",
    "\n",
    "plt.show()"
   ]
  },
  {
   "cell_type": "code",
   "execution_count": 40,
   "metadata": {
    "ExecuteTime": {
     "end_time": "2021-01-23T16:59:43.989102Z",
     "start_time": "2021-01-23T16:59:43.810036Z"
    }
   },
   "outputs": [
    {
     "data": {
      "image/png": "[encoded data removed]",
      "text/plain": [
       "<Figure size 432x288 with 1 Axes>"
      ]
     },
     "metadata": {
      "needs_background": "light"
     },
     "output_type": "display_data"
    }
   ],
   "source": [
    "t = np.arange(0., 13, 1)\n",
    "true = 28*np.ones((13,1))\n",
    "mpcplt = mpc[0: ,3 ]\n",
    "sysplt = sys[0:,3]\n",
    "plt.plot(t, sysplt, 'bs',label ='system  output')\n",
    "plt.plot(t, mpcplt, 'g^',label = 'mpc prediction')\n",
    "plt.plot(t, true,'r--',label = 'desired')\n",
    "plt.legend(loc=\"upper left\")\n",
    "plt.ylabel('speed_x /output[1]')\n",
    "plt.xlabel('steps ')\n",
    "\n",
    "plt.show()"
   ]
  },
  {
   "cell_type": "code",
   "execution_count": 51,
   "metadata": {
    "ExecuteTime": {
     "end_time": "2021-01-23T17:08:28.184775Z",
     "start_time": "2021-01-23T17:08:27.931477Z"
    }
   },
   "outputs": [
    {
     "data": {
      "image/png": "[encoded data removed]",
      "text/plain": [
       "<Figure size 432x288 with 1 Axes>"
      ]
     },
     "metadata": {
      "needs_background": "light"
     },
     "output_type": "display_data"
    }
   ],
   "source": [
    "t = np.arange(0., 13, 1)\n",
    "true = 0*np.ones((13,1))\n",
    "mpcplt = mpc[0: ,4 ]\n",
    "sysplt = sys[0:,4 ]\n",
    "plt.plot(t, sysplt, 'bs',label ='system  output')\n",
    "plt.plot(t, mpcplt, 'g^',label = 'mpc prediction')\n",
    "plt.plot(t, true,'r--',label = 'desired')\n",
    "plt.legend(loc=\"upper left\")\n",
    "plt.ylabel('speed_z /output[2]')\n",
    "plt.xlabel('steps ')\n",
    "\n",
    "plt.show()"
   ]
  },
  {
   "cell_type": "code",
   "execution_count": 43,
   "metadata": {
    "ExecuteTime": {
     "end_time": "2021-01-23T17:01:35.991111Z",
     "start_time": "2021-01-23T17:01:35.748292Z"
    }
   },
   "outputs": [
    {
     "data": {
      "image/png": "[encoded data removed]",
      "text/plain": [
       "<Figure size 432x288 with 1 Axes>"
      ]
     },
     "metadata": {
      "needs_background": "light"
     },
     "output_type": "display_data"
    }
   ],
   "source": [
    "t = np.arange(0., 13, 1)\n",
    "true = 0*np.ones((13,1))\n",
    "mpcplt = mpc[0:  , 5 ]\n",
    "sysplt = sys[0:,5]\n",
    "plt.plot(t, sysplt, 'bs',label ='system  output')\n",
    "plt.plot(t, mpcplt, 'g^',label = 'mpc prediction')\n",
    "plt.plot(t, true,'r--',label = 'desired')\n",
    "plt.legend(loc=\"upper left\")\n",
    "plt.ylabel('q(radian/s) /output[3]')\n",
    "plt.xlabel('steps ')\n",
    "\n",
    "plt.show()"
   ]
  },
  {
   "cell_type": "code",
   "execution_count": 42,
   "metadata": {
    "ExecuteTime": {
     "end_time": "2021-01-23T17:01:29.085722Z",
     "start_time": "2021-01-23T17:01:28.893913Z"
    }
   },
   "outputs": [
    {
     "data": {
      "image/png": "[encoded data removed]",
      "text/plain": [
       "<Figure size 432x288 with 1 Axes>"
      ]
     },
     "metadata": {
      "needs_background": "light"
     },
     "output_type": "display_data"
    }
   ],
   "source": [
    "t = np.arange(0., 13, 1)\n",
    "true = 0*np.ones((13,1))\n",
    "mpcplt = mpc[0:  , 6 ]\n",
    "sysplt = sys[0:,6   ]\n",
    "plt.plot(t, sysplt, 'bs',label ='system  output')\n",
    "plt.plot(t, mpcplt, 'g^',label = 'mpc prediction')\n",
    "plt.plot(t, true,'r--',label = 'desired')\n",
    "plt.legend(loc=\"upper left\")\n",
    "plt.ylabel('theta(radian) /output[1]')\n",
    "plt.xlabel('steps ')\n",
    "\n",
    "plt.show()"
   ]
  },
  {
   "cell_type": "code",
   "execution_count": null,
   "metadata": {},
   "outputs": [],
   "source": []
  }
 ],
 "metadata": {
  "kernelspec": {
   "display_name": "Python 3",
   "language": "python",
   "name": "python3"
  },
  "language_info": {
   "codemirror_mode": {
    "name": "ipython",
    "version": 3
   },
   "file_extension": ".py",
   "mimetype": "text/x-python",
   "name": "python",
   "nbconvert_exporter": "python",
   "pygments_lexer": "ipython3",
   "version": "3.7.0"
  },
  "varInspector": {
   "cols": {
    "lenName": 16,
    "lenType": 16,
    "lenVar": 40
   },
   "kernels_config": {
    "python": {
     "delete_cmd_postfix": "",
     "delete_cmd_prefix": "del ",
     "library": "var_list.py",
     "varRefreshCmd": "print(var_dic_list())"
    },
    "r": {
     "delete_cmd_postfix": ") ",
     "delete_cmd_prefix": "rm(",
     "library": "var_list.r",
     "varRefreshCmd": "cat(var_dic_list()) "
    }
   },
   "types_to_exclude": [
    "module",
    "function",
    "builtin_function_or_method",
    "instance",
    "_Feature"
   ],
   "window_display": false
  }
 },
 "nbformat": 4,
 "nbformat_minor": 4
}
