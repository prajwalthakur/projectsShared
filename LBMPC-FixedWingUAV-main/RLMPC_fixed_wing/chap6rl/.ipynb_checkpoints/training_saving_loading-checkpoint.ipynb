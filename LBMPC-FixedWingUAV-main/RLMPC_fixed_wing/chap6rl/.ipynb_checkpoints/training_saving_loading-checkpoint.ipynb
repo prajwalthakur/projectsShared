{
 "cells": [
  {
   "cell_type": "code",
   "execution_count": null,
   "metadata": {},
   "outputs": [],
   "source": [
    "#training neural network\n",
    "import tensorflow as tf\n",
    "from tensorflow.keras.regularizers import l2\n",
    "from sklearn import preprocessing\n",
    "import pandas as pd\n",
    "data = pd.read_csv('system_data.csv') \n",
    "import numpy as np\n",
    "v=data.to_numpy();\n",
    "Xtrain = v[0:1000,0:8]\n",
    "Ytrain = v[0:1000,8:]\n",
    "Xtest = v[2000:2100,0:8]\n",
    "Ytest = v[2000:2100,8:]\n",
    "scaler_x  = preprocessing.StandardScaler().fit(Xtrain)\n",
    "scaler_y = preprocessing.StandardScaler().fit(Ytrain)\n",
    "print(\"x_mean\",scaler_x.mean_)\n",
    "print(\"x_scale\",scaler_x.scale_)\n",
    "print(\"y_mean\",scaler_y.mean_)\n",
    "print(\"y_scale\",scaler_y.scale_)\n",
    "X_train_scaled = scaler_x.transform(Xtrain)\n",
    "Y_train_scaled = scaler_y.transform(Ytrain)\n",
    "X_test_scaled = scaler_x.transform(Xtest)\n",
    "Y_test_scaled = scaler_y.transform(Ytest)\n",
    "def get_model():\n",
    "    # Create a simple model.\n",
    "    model = tf.keras.Sequential()\n",
    "    dense = tf.keras.layers.Dense(200, input_shape= (8,) , activation=\"tanh\" , kernel_regularizer=l2(0.01))\n",
    "    model.add(dense)  # , input_shape=(train_X.shape[1], train_X.shape[2]))\n",
    "    dense = tf.keras.layers.Dense(200, activation = \"tanh\" , kernel_regularizer=l2(0.01))\n",
    "    model.add(dense) \n",
    "    model.add(tf.keras.layers.Dense(5))\n",
    "    model.compile(optimizer=\"adam\", loss=\"mean_squared_error\",  metrics=['accuracy'])\n",
    "    return model\n",
    "\n",
    "\n",
    "model = get_model()\n",
    "\n",
    "# Train the model.\n",
    "train_input = Xtrain\n",
    "train_target = Ytrain\n",
    "history = model.fit(X_train_scaled, Y_train_scaled,  epochs=500, batch_size=100, \n",
    "              shuffle=True, validation_data=(X_test_scaled, Y_test_scaled) , verbose=2\n",
    "                   )"
   ]
  },
  {
   "cell_type": "code",
   "execution_count": null,
   "metadata": {},
   "outputs": [],
   "source": [
    "# saving model to JSON\n",
    "from tensorflow.keras.models import model_from_json\n",
    "model_json = model.to_json()\n",
    "with open(\"model_next_simple.json\", \"w\") as json_file:\n",
    "    json_file.write(model_json)\n",
    "# serialize weights to HDF5\n",
    "model.save_weights(\"model_next_simple.h5\")\n",
    "print(\"Saved model to disk\")"
   ]
  },
  {
   "cell_type": "code",
   "execution_count": null,
   "metadata": {},
   "outputs": [],
   "source": [
    "from tensorflow.keras.models import model_from_json\n",
    "json_file = open('model_next_simple.json', 'r')\n",
    "loaded_model_json = json_file.read()\n",
    "json_file.close()\n",
    "loaded_model = model_from_json(loaded_model_json)\n",
    "# load weights into new model\n",
    "loaded_model.load_weights(\"model_next_simple.h5\")\n",
    "print(\"Loaded model from disk\")\n",
    " \n",
    "# evaluate loaded model on test data\n",
    "loaded_model.compile(optimizer=\"adam\", loss=\"mean_squared_error\",  metrics=['accuracy'])"
   ]
  }
 ],
 "metadata": {
  "kernelspec": {
   "display_name": "Python 3",
   "language": "python",
   "name": "python3"
  },
  "language_info": {
   "codemirror_mode": {
    "name": "ipython",
    "version": 3
   },
   "file_extension": ".py",
   "mimetype": "text/x-python",
   "name": "python",
   "nbconvert_exporter": "python",
   "pygments_lexer": "ipython3",
   "version": "3.7.0"
  },
  "varInspector": {
   "cols": {
    "lenName": 16,
    "lenType": 16,
    "lenVar": 40
   },
   "kernels_config": {
    "python": {
     "delete_cmd_postfix": "",
     "delete_cmd_prefix": "del ",
     "library": "var_list.py",
     "varRefreshCmd": "print(var_dic_list())"
    },
    "r": {
     "delete_cmd_postfix": ") ",
     "delete_cmd_prefix": "rm(",
     "library": "var_list.r",
     "varRefreshCmd": "cat(var_dic_list()) "
    }
   },
   "types_to_exclude": [
    "module",
    "function",
    "builtin_function_or_method",
    "instance",
    "_Feature"
   ],
   "window_display": false
  }
 },
 "nbformat": 4,
 "nbformat_minor": 4
}
